{
 "cells": [
  {
   "cell_type": "markdown",
   "metadata": {},
   "source": [
    "# 作業1：\n",
    " ### 請上 Kaggle, 在 Competitions 或 Dataset 中找一組競賽或資料並寫下：      \n",
    "   Data: \n",
    "   [Greenhouse gas emissions in the Netherlands](https://www.kaggle.com/janheindejong/greenhouse-gas-emissions-in-the-netherlands)\n",
    "## 1. 你選的這組資料為何重要\n",
    "       近年來全球氣溫快速上升，主要就是由於人為作用，使大氣中溫室氣體的濃度極劇上升所導致的。\n",
    "       故分析溫室氣體的主要來源，可幫助我們思考如何去降低溫室氣體的產生及改善。\n",
    "## 2. 資料從何而來 (tips: 譬如提供者是誰、以什麼方式蒐集)\n",
    "       資料是根據IPCC指南/方法，從荷蘭中央統計局(Dutch Central Bureau of Statistics, CBS）網站下載的溫室氣體排放數據。  \n",
    "## 3. 蒐集而來的資料型態為何\n",
    "       結構化資料: csv\n",
    "       半結構化資料: json   \n",
    "## 4.這組資料想解決的問題如何評估\n",
    "       了解溫室氣體主要的來源，以及隨著時間的推移溫室氣體的變化。      \n",
    "       \n",
    "# 作業二\n",
    "### 想像你經營一個自由載客車隊，你希望能透過數據分析以提升業績，請你思考並描述你如何規劃整體的分析/解決方案：\n",
    "## 1. 核心問題為何 (tips：如何定義 「提升業績 & 你的假設」)\n",
    "## 2. 資料從何而來 (tips：哪些資料可能會對你想問的問題產生影響 & 資料如何蒐集)\n",
    "## 3. 蒐集而來的資料型態為何\n",
    "## 4. 你要回答的問題，其如何評估 (tips：你的假設如何驗證)\n",
    "\n",
    "# 作業3："
   ]
  },
  {
   "cell_type": "code",
   "execution_count": 1,
   "metadata": {},
   "outputs": [],
   "source": [
    "import numpy as np\n",
    "import matplotlib.pyplot as plt"
   ]
  },
  {
   "cell_type": "code",
   "execution_count": 2,
   "metadata": {},
   "outputs": [],
   "source": [
    "def mean_squared_error(y,yp):\n",
    "    \"\"\"\n",
    "    計算 MAE\n",
    "    Args:\n",
    "        - y: 實際值\n",
    "        - yp: 預測值\n",
    "    Return:\n",
    "        - mse: MSE\n",
    "    \"\"\"\n",
    "    mse = MSE = sum((y - yp) ** 2) / len(y)\n",
    "    return mse\n",
    "\n",
    "def mean_absolute_error(y, yp):\n",
    "    \"\"\"\n",
    "    計算 MAE\n",
    "    Args:\n",
    "        - y: 實際值\n",
    "        - yp: 預測值\n",
    "    Return:\n",
    "        - mae: MAE\n",
    "    \"\"\"\n",
    "    mae = MAE = sum(abs(y - yp)) / len(y)\n",
    "    return mae"
   ]
  },
  {
   "cell_type": "code",
   "execution_count": 3,
   "metadata": {},
   "outputs": [
    {
     "data": {
      "image/png": "[encoded data removed]",
      "text/plain": [
       "<Figure size 432x288 with 1 Axes>"
      ]
     },
     "metadata": {
      "needs_background": "light"
     },
     "output_type": "display_data"
    }
   ],
   "source": [
    "w = 3\n",
    "b = 0.5\n",
    "\n",
    "x_lin = np.linspace(0, 100, 101)\n",
    "\n",
    "y = (x_lin + np.random.randn(101) * 5) * w + b\n",
    "\n",
    "plt.plot(x_lin, y, 'b.', label = 'data points')\n",
    "plt.title(\"Assume we have data points\")\n",
    "plt.legend(loc = 2)\n",
    "plt.show()"
   ]
  },
  {
   "cell_type": "code",
   "execution_count": null,
   "metadata": {},
   "outputs": [],
   "source": []
  }
 ],
 "metadata": {
  "kernelspec": {
   "display_name": "Python 3",
   "language": "python",
   "name": "python3"
  },
  "language_info": {
   "codemirror_mode": {
    "name": "ipython",
    "version": 3
   },
   "file_extension": ".py",
   "mimetype": "text/x-python",
   "name": "python",
   "nbconvert_exporter": "python",
   "pygments_lexer": "ipython3",
   "version": "3.7.1"
  }
 },
 "nbformat": 4,
 "nbformat_minor": 2
}
