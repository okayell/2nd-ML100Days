{
 "cells": [
  {
   "cell_type": "markdown",
   "metadata": {},
   "source": [
    "## [作業重點]\n",
    "目前你應該已經要很清楚資料集中，資料的型態是什麼樣子囉！包含特徵 (features) 與標籤 (labels)。因此要記得未來不管什麼專案，必須要把資料清理成相同的格式，才能送進模型訓練。\n",
    "今天的作業開始踏入決策樹這個非常重要的模型，請務必確保你理解模型中每個超參數的意思，並試著調整看看，對最終預測結果的影響為何"
   ]
  },
  {
   "cell_type": "markdown",
   "metadata": {},
   "source": [
    "## 作業\n",
    "\n",
    "1. 試著調整 DecisionTreeClassifier(...) 中的參數，並觀察是否會改變結果？\n",
    "2. 改用其他資料集 (boston, wine)，並與回歸模型的結果進行比較"
   ]
  },
  {
   "cell_type": "code",
   "execution_count": 2,
   "metadata": {},
   "outputs": [],
   "source": [
    "from sklearn import datasets, metrics\n",
    "\n",
    "# 如果是分類問題，請使用 DecisionTreeClassifier，若為回歸問題，請使用 DecisionTreeRegressor\n",
    "from sklearn.tree import DecisionTreeClassifier, DecisionTreeRegressor\n",
    "from sklearn.model_selection import train_test_split"
   ]
  },
  {
   "cell_type": "code",
   "execution_count": 4,
   "metadata": {},
   "outputs": [],
   "source": [
    "# 讀取鳶尾花資料集\n",
    "boston = datasets.load_boston()\n",
    "\n",
    "# 切分訓練集/測試集\n",
    "x_train, x_test, y_train, y_test = train_test_split(boston.data, boston.target, test_size=0.25, random_state=4)\n",
    "\n",
    "# 建立模型\n",
    "clf = DecisionTreeRegressor()\n",
    "\n",
    "# 訓練模型\n",
    "clf.fit(x_train, y_train)\n",
    "\n",
    "# 預測測試集\n",
    "y_pred = clf.predict(x_test)"
   ]
  },
  {
   "cell_type": "code",
   "execution_count": 5,
   "metadata": {},
   "outputs": [
    {
     "data": {
      "text/plain": [
       "array([14.6, 22. , 20.9, 22.5, 50. , 23.3, 37.3, 23.2, 17.2, 17.8, 23.9,\n",
       "       16.5, 20.6, 24.3, 23.2, 13.8, 17.2, 12.8, 10.4, 14.8, 10.4, 17.8,\n",
       "       20.5, 20.4, 21.1, 20.1, 13.4, 14.5, 23. , 21.7,  9.5, 22.5, 36. ,\n",
       "       21.4, 13.8,  9.5, 33.2, 50. , 24.8, 23.7, 46. , 24.8, 12.7, 29.4,\n",
       "       27.5, 20.9, 50. , 19.4, 22.7, 22.2, 29.6, 23.8, 11.3, 27.1, 19.1,\n",
       "       19.3, 22. , 33.1, 16.6, 33.1, 16.2, 21.4, 37. , 19.4, 46. , 29.4,\n",
       "       21. ,  8.4, 23.2, 23. , 22. , 17.2, 25.1, 29.9, 20.5, 33.4, 15.2,\n",
       "       21. , 17.7, 20.1, 21.1, 15.6, 27.9, 20.6, 24.7, 19.9, 33.1, 24.5,\n",
       "       22.5, 50. , 29. , 50. , 19.4, 48.3, 24.4, 19.4, 21. , 23.1, 14.6,\n",
       "       19. ,  8.3, 19.3, 34.9, 14.5, 23.7, 19.9, 37.3, 30.3, 50. , 22.3,\n",
       "       18.5, 19.6, 14.8, 35.4, 36.1, 36.2, 50. , 15.4,  7. , 19.6, 21.2,\n",
       "       12.5, 23.3, 21.4, 16.2, 24. , 50. ])"
      ]
     },
     "execution_count": 5,
     "metadata": {},
     "output_type": "execute_result"
    }
   ],
   "source": [
    "y_pred"
   ]
  },
  {
   "cell_type": "code",
   "execution_count": 9,
   "metadata": {},
   "outputs": [
    {
     "name": "stdout",
     "output_type": "stream",
     "text": [
      "Mean squared error: 28.96\n"
     ]
    }
   ],
   "source": [
    "from sklearn.metrics import mean_squared_error, r2_score, accuracy_score\n",
    "\n",
    "# 預測值與實際值的差距，使用 MSE\n",
    "print(\"Mean squared error: %.2f\"\n",
    "      % mean_squared_error(y_test, y_pred))"
   ]
  },
  {
   "cell_type": "code",
   "execution_count": 10,
   "metadata": {},
   "outputs": [
    {
     "name": "stdout",
     "output_type": "stream",
     "text": [
      "['CRIM' 'ZN' 'INDUS' 'CHAS' 'NOX' 'RM' 'AGE' 'DIS' 'RAD' 'TAX' 'PTRATIO'\n",
      " 'B' 'LSTAT']\n"
     ]
    }
   ],
   "source": [
    "print(boston.feature_names)"
   ]
  },
  {
   "cell_type": "code",
   "execution_count": 11,
   "metadata": {},
   "outputs": [
    {
     "name": "stdout",
     "output_type": "stream",
     "text": [
      "Feature importance:  [6.55123039e-02 1.98819967e-03 1.17437074e-02 5.30105079e-05\n",
      " 3.39779479e-02 5.44710716e-01 1.33826984e-02 6.57504463e-02\n",
      " 1.09376048e-03 1.04806073e-02 1.97074975e-02 9.22076466e-03\n",
      " 2.22378340e-01]\n"
     ]
    }
   ],
   "source": [
    "print(\"Feature importance: \", clf.feature_importances_)"
   ]
  }
 ],
 "metadata": {
  "kernelspec": {
   "display_name": "Python 3",
   "language": "python",
   "name": "python3"
  },
  "language_info": {
   "codemirror_mode": {
    "name": "ipython",
    "version": 3
   },
   "file_extension": ".py",
   "mimetype": "text/x-python",
   "name": "python",
   "nbconvert_exporter": "python",
   "pygments_lexer": "ipython3",
   "version": "3.7.3"
  }
 },
 "nbformat": 4,
 "nbformat_minor": 4
}
