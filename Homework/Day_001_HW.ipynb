{
 "cells": [
  {
   "cell_type": "markdown",
   "metadata": {},
   "source": [
    "# 作業1：\n",
    " ### 請上 Kaggle, 在 Competitions 或 Dataset 中找一組競賽或資料並寫下：\n",
    "       \n",
    "   Data: \n",
    "   [Greenhouse gas emissions in the Netherlands](https://www.kaggle.com/janheindejong/greenhouse-gas-emissions-in-the-netherlands)\n",
    "\n",
    "## 1.你選的這組資料為何重要\n",
    "       近年來全球氣溫快速上升，主要就是由於人為作用，使大氣中溫室氣體的濃度極劇上升所導致的。\n",
    "       故分析溫室氣體的主要來源，可幫助我們思考如何去降低溫室氣體的產生及改善。\n",
    "   \n",
    "## 2.資料從何而來 (tips: 譬如提供者是誰、以什麼方式蒐集)\n",
    "       資料是根據IPCC指南/方法，從荷蘭中央統計局(Dutch Central Bureau of Statistics, CBS）網站下載的溫室氣體排放數據。\n",
    "   \n",
    "## 3.蒐集而來的資料型態為何\n",
    "       結構化資料: csv\n",
    "       半結構化資料: json\n",
    "   \n",
    "## 4.這組資料想解決的問題如何評估\n",
    "       了解溫室氣體主要的來源，以及隨著時間的推移溫室氣體的變化。"
   ]
  },
  {
   "cell_type": "markdown",
   "metadata": {},
   "source": []
  }
 ],
 "metadata": {
  "kernelspec": {
   "display_name": "Python 3",
   "language": "python",
   "name": "python3"
  },
  "language_info": {
   "codemirror_mode": {
    "name": "ipython",
    "version": 3
   },
   "file_extension": ".py",
   "mimetype": "text/x-python",
   "name": "python",
   "nbconvert_exporter": "python",
   "pygments_lexer": "ipython3",
   "version": "3.7.1"
  }
 },
 "nbformat": 4,
 "nbformat_minor": 2
}
