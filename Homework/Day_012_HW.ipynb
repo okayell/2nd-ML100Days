{
 "cells": [
  {
   "cell_type": "markdown",
   "metadata": {},
   "source": [
    "# 作業\n",
    "- 新增一個欄位 `customized_age_grp`，把 `age` 分為 (0, 10], (10, 20], (20, 30], (30, 50], (50, 100] 這五組，\n",
    "'(' 表示不包含, ']' 表示包含  \n",
    "- Hints: 執行 ??pd.cut()，了解提供其中 bins 這個參數的使用方式"
   ]
  },
  {
   "attachments": {
    "Day001_Sample.ipynb": {
     "undefined": "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"
    }
   },
   "cell_type": "markdown",
   "metadata": {},
   "source": [
    "# [作業目標]\n",
    "- 請同學試著查詢 pandas.cut 這個函數還有哪些參數, 藉由改動參數以達成目標\n",
    "- 藉由查詢與改動參數的過程, 熟悉查詢函數的方法與理解參數性質, 並了解數值的離散化的調整工具![Day001_Sample.ipynb](attachment:Day001_Sample.ipynb)"
   ]
  },
  {
   "cell_type": "markdown",
   "metadata": {},
   "source": [
    "# [作業重點]\n",
    "- 仿照 In[3], In[4] 的語法, 並設定 pd.cut 的參數以指定間距"
   ]
  },
  {
   "cell_type": "code",
   "execution_count": 1,
   "metadata": {},
   "outputs": [],
   "source": [
    "# 載入套件\n",
    "import os\n",
    "import numpy as np\n",
    "import pandas as pd\n",
    "\n",
    "import matplotlib.pyplot as plt\n",
    "%matplotlib inline"
   ]
  },
  {
   "cell_type": "code",
   "execution_count": 2,
   "metadata": {},
   "outputs": [],
   "source": [
    "# 初始設定 Ages 的資料\n",
    "ages = pd.DataFrame({\"age\": [18,22,25,27,7,21,23,37,30,61,45,41,9,18,80,100]})"
   ]
  },
  {
   "cell_type": "markdown",
   "metadata": {},
   "source": [
    "#### 等寬劃分"
   ]
  },
  {
   "cell_type": "code",
   "execution_count": 3,
   "metadata": {},
   "outputs": [],
   "source": [
    "# 新增欄位 \"equal_width_age\", 對年齡做等寬劃分\n",
    "ages[\"equal_width_age\"] = pd.cut(ages[\"age\"], 4)    # cut: 每組寬度都一樣"
   ]
  },
  {
   "cell_type": "code",
   "execution_count": 4,
   "metadata": {},
   "outputs": [
    {
     "data": {
      "text/plain": [
       "(6.907, 30.25]    10\n",
       "(30.25, 53.5]      3\n",
       "(76.75, 100.0]     2\n",
       "(53.5, 76.75]      1\n",
       "Name: equal_width_age, dtype: int64"
      ]
     },
     "execution_count": 4,
     "metadata": {},
     "output_type": "execute_result"
    }
   ],
   "source": [
    "# 觀察等寬劃分下, 每個種組距各出現幾次\n",
    "ages[\"equal_width_age\"].value_counts() # 每個 bin 的值的範圍大小都是一樣的"
   ]
  },
  {
   "cell_type": "markdown",
   "metadata": {},
   "source": [
    "#### 等頻劃分"
   ]
  },
  {
   "cell_type": "code",
   "execution_count": 5,
   "metadata": {},
   "outputs": [],
   "source": [
    "# 新增欄位 \"equal_freq_age\", 對年齡做等頻劃分\n",
    "ages[\"equal_freq_age\"] = pd.qcut(ages[\"age\"], 4)   # qcut: 每組數量都一樣"
   ]
  },
  {
   "cell_type": "code",
   "execution_count": 6,
   "metadata": {},
   "outputs": [
    {
     "data": {
      "text/plain": [
       "(42.0, 100.0]     4\n",
       "(26.0, 42.0]      4\n",
       "(20.25, 26.0]     4\n",
       "(6.999, 20.25]    4\n",
       "Name: equal_freq_age, dtype: int64"
      ]
     },
     "execution_count": 6,
     "metadata": {},
     "output_type": "execute_result"
    }
   ],
   "source": [
    "# 觀察等頻劃分下, 每個種組距各出現幾次\n",
    "ages[\"equal_freq_age\"].value_counts() # 每個 bin 的資料筆數是一樣的"
   ]
  },
  {
   "cell_type": "markdown",
   "metadata": {},
   "source": [
    "# 作業內容:"
   ]
  },
  {
   "cell_type": "markdown",
   "metadata": {},
   "source": [
    "### pandas.cut(x, bins, right=True, labels=None, retbins=False, precision=3, include_lowest=False)\n",
    "### 用途：返回 x 中的每一個數據 在bins 中對應 的範圍\n",
    "* x ： 必須是一維資料\n",
    "* bins： 不同面元（不同範圍）型別:整數，序列如陣列, 和IntervalIndex\n",
    "* right： 最後一個bins是否包含最右邊的資料，預設為True\n",
    "* precision：精度 預設保留三位小數\n",
    "* retbins： 即return bins 是否返回每一個bins的範圍 預設為False\n"
   ]
  },
  {
   "cell_type": "code",
   "execution_count": 7,
   "metadata": {},
   "outputs": [
    {
     "data": {
      "text/plain": [
       "0      (10, 20]\n",
       "1      (20, 30]\n",
       "2      (20, 30]\n",
       "3      (20, 30]\n",
       "4       (0, 10]\n",
       "5      (20, 30]\n",
       "6      (20, 30]\n",
       "7      (30, 50]\n",
       "8      (20, 30]\n",
       "9     (50, 100]\n",
       "10     (30, 50]\n",
       "11     (30, 50]\n",
       "12      (0, 10]\n",
       "13     (10, 20]\n",
       "14    (50, 100]\n",
       "15    (50, 100]\n",
       "Name: customized_age_grp, dtype: category\n",
       "Categories (5, interval[int64]): [(0, 10] < (10, 20] < (20, 30] < (30, 50] < (50, 100]]"
      ]
     },
     "execution_count": 7,
     "metadata": {},
     "output_type": "execute_result"
    }
   ],
   "source": [
    "# 新增欄位 \"customized_age_grp\", 對年齡做等寬劃分\n",
    "bins = [0,10,20,30,50,100]\n",
    "ages[\"customized_age_grp\"] = pd.cut(ages[\"age\"], bins=bins)\n",
    "ages[\"customized_age_grp\"]"
   ]
  },
  {
   "cell_type": "code",
   "execution_count": 37,
   "metadata": {},
   "outputs": [
    {
     "data": {
      "text/plain": [
       "(20, 30]     6\n",
       "(50, 100]    3\n",
       "(30, 50]     3\n",
       "(10, 20]     2\n",
       "(0, 10]      2\n",
       "Name: customized_age_grp, dtype: int64"
      ]
     },
     "execution_count": 37,
     "metadata": {},
     "output_type": "execute_result"
    }
   ],
   "source": [
    "# 觀察等寬劃分下, 每個種組距各出現幾次\n",
    "ages[\"customized_age_grp\"].value_counts() # 每個 bin 的值的範圍大小都是一樣的"
   ]
  },
  {
   "cell_type": "code",
   "execution_count": 43,
   "metadata": {},
   "outputs": [
    {
     "data": {
      "text/plain": [
       "0      11-20\n",
       "1      21-30\n",
       "2      21-30\n",
       "3      21-30\n",
       "4       0-10\n",
       "5      21-30\n",
       "6      21-30\n",
       "7      31-50\n",
       "8      21-30\n",
       "9     51-100\n",
       "10     31-50\n",
       "11     31-50\n",
       "12      0-10\n",
       "13     11-20\n",
       "14    51-100\n",
       "15    51-100\n",
       "Name: customized_age_grp, dtype: category\n",
       "Categories (5, object): [0-10 < 11-20 < 21-30 < 31-50 < 51-100]"
      ]
     },
     "execution_count": 43,
     "metadata": {},
     "output_type": "execute_result"
    }
   ],
   "source": [
    "group_names = ['0-10', '11-20', '21-30', '31-50','51-100']\n",
    "ages[\"customized_age_grp\"] = pd.cut(ages[\"age\"], bins, labels=group_names)\n",
    "ages[\"customized_age_grp\"]"
   ]
  },
  {
   "cell_type": "code",
   "execution_count": 39,
   "metadata": {},
   "outputs": [
    {
     "data": {
      "text/plain": [
       "[0, 1, 2, 3, 4, 5, 6, 7, 8, 9, 10, 11, 12, 13, 14, 15]"
      ]
     },
     "execution_count": 39,
     "metadata": {},
     "output_type": "execute_result"
    }
   ],
   "source": [
    "ages[\"customized_age_grp\"].index\n",
    "list(ages[\"customized_age_grp\"].index)"
   ]
  },
  {
   "cell_type": "code",
   "execution_count": 40,
   "metadata": {},
   "outputs": [
    {
     "data": {
      "text/plain": [
       "['11-20',\n",
       " '21-30',\n",
       " '21-30',\n",
       " '21-30',\n",
       " '0-10',\n",
       " '21-30',\n",
       " '21-30',\n",
       " '31-50',\n",
       " '21-30',\n",
       " '51-100',\n",
       " '31-50',\n",
       " '31-50',\n",
       " '0-10',\n",
       " '11-20',\n",
       " '51-100',\n",
       " '51-100']"
      ]
     },
     "execution_count": 40,
     "metadata": {},
     "output_type": "execute_result"
    }
   ],
   "source": [
    "ages[\"customized_age_grp\"].values\n",
    "list(ages[\"customized_age_grp\"].values)"
   ]
  }
 ],
 "metadata": {
  "kernelspec": {
   "display_name": "Python 3",
   "language": "python",
   "name": "python3"
  },
  "language_info": {
   "codemirror_mode": {
    "name": "ipython",
    "version": 3
   },
   "file_extension": ".py",
   "mimetype": "text/x-python",
   "name": "python",
   "nbconvert_exporter": "python",
   "pygments_lexer": "ipython3",
   "version": "3.7.3"
  }
 },
 "nbformat": 4,
 "nbformat_minor": 4
}
