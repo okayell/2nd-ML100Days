{
 "cells": [
  {
   "cell_type": "markdown",
   "metadata": {},
   "source": [
    "# 作業目標:\n",
    "\n",
    "    使用CIFAR100, 數據集變大的影響\n",
    "    \n",
    "    \n",
    "# 作業重點:¶\n",
    "\n",
    "   了解 CIFAR100 跟 CIFAR10 數據及差異\n"
   ]
  },
  {
   "cell_type": "code",
   "execution_count": 1,
   "metadata": {},
   "outputs": [
    {
     "name": "stderr",
     "output_type": "stream",
     "text": [
      "Using TensorFlow backend.\n"
     ]
    }
   ],
   "source": [
    "import numpy\n",
    "from keras.datasets import cifar100\n",
    "import numpy as np\n",
    "np.random.seed(100)"
   ]
  },
  {
   "cell_type": "markdown",
   "metadata": {},
   "source": [
    "## <strong> 資料準備"
   ]
  },
  {
   "cell_type": "code",
   "execution_count": 5,
   "metadata": {},
   "outputs": [],
   "source": [
    "(X_train, y_train), (X_test, y_test) = cifar100.load_data()"
   ]
  },
  {
   "cell_type": "code",
   "execution_count": 6,
   "metadata": {},
   "outputs": [
    {
     "name": "stdout",
     "output_type": "stream",
     "text": [
      "X_train shape:  (50000, 32, 32, 3)\n",
      "y_test shape:  (50000, 1)\n"
     ]
    }
   ],
   "source": [
    "print(\"X_train shape: \", X_train.shape)\n",
    "print(\"y_test shape: \", y_train.shape)"
   ]
  },
  {
   "cell_type": "markdown",
   "metadata": {},
   "source": [
    "## <strong> 正規化 "
   ]
  },
  {
   "cell_type": "code",
   "execution_count": 8,
   "metadata": {},
   "outputs": [],
   "source": [
    "X_train_norm = X_train.astype(\"float32\") / 255\n",
    "X_test_norm = X_test.astype(\"float32\") / 255"
   ]
  },
  {
   "cell_type": "code",
   "execution_count": 15,
   "metadata": {},
   "outputs": [
    {
     "data": {
      "text/plain": [
       "array([[[1.        , 1.        , 1.        ],\n",
       "        [1.        , 1.        , 1.        ],\n",
       "        [1.        , 1.        , 1.        ],\n",
       "        ...,\n",
       "        [0.7647059 , 0.8039216 , 0.75686276],\n",
       "        [0.83137256, 0.8784314 , 0.8       ],\n",
       "        [0.7137255 , 0.7607843 , 0.654902  ]],\n",
       "\n",
       "       [[1.        , 1.        , 1.        ],\n",
       "        [0.99607843, 0.99607843, 0.99607843],\n",
       "        [0.99607843, 0.99607843, 0.99607843],\n",
       "        ...,\n",
       "        [0.6666667 , 0.6901961 , 0.5882353 ],\n",
       "        [0.6313726 , 0.65882355, 0.50980395],\n",
       "        [0.57254905, 0.6039216 , 0.44313726]],\n",
       "\n",
       "       [[1.        , 1.        , 1.        ],\n",
       "        [0.99607843, 0.99607843, 0.99607843],\n",
       "        [1.        , 1.        , 1.        ],\n",
       "        ...,\n",
       "        [0.7411765 , 0.78039217, 0.6627451 ],\n",
       "        [0.6509804 , 0.69803923, 0.50980395],\n",
       "        [0.4745098 , 0.52156866, 0.34117648]],\n",
       "\n",
       "       ...,\n",
       "\n",
       "       [[0.5803922 , 0.7254902 , 0.30980393],\n",
       "        [0.5568628 , 0.7137255 , 0.22352941],\n",
       "        [0.54901963, 0.7019608 , 0.23529412],\n",
       "        ...,\n",
       "        [0.11764706, 0.06666667, 0.00392157],\n",
       "        [0.25490198, 0.24313726, 0.05882353],\n",
       "        [0.29803923, 0.3019608 , 0.07843138]],\n",
       "\n",
       "       [[0.47843137, 0.6156863 , 0.25882354],\n",
       "        [0.47058824, 0.60784316, 0.22745098],\n",
       "        [0.49411765, 0.627451  , 0.2784314 ],\n",
       "        ...,\n",
       "        [0.08627451, 0.0627451 , 0.01176471],\n",
       "        [0.38039216, 0.4392157 , 0.21960784],\n",
       "        [0.5529412 , 0.6313726 , 0.34117648]],\n",
       "\n",
       "       [[0.34117648, 0.47843137, 0.16078432],\n",
       "        [0.34509805, 0.47843137, 0.15294118],\n",
       "        [0.39607844, 0.5254902 , 0.21960784],\n",
       "        ...,\n",
       "        [0.13333334, 0.14117648, 0.03921569],\n",
       "        [0.4117647 , 0.52156866, 0.23137255],\n",
       "        [0.5411765 , 0.6784314 , 0.30980393]]], dtype=float32)"
      ]
     },
     "execution_count": 15,
     "metadata": {},
     "output_type": "execute_result"
    }
   ],
   "source": [
    "X_train_norm[0]"
   ]
  },
  {
   "cell_type": "markdown",
   "metadata": {},
   "source": [
    "## <strong> OneHot Encoding"
   ]
  },
  {
   "cell_type": "code",
   "execution_count": 9,
   "metadata": {},
   "outputs": [],
   "source": [
    "from keras.utils.np_utils import *\n",
    "\n",
    "y_train_one_hot = to_categorical(y_train)\n",
    "y_test_one_hot = to_categorical(y_test)"
   ]
  },
  {
   "cell_type": "code",
   "execution_count": 16,
   "metadata": {},
   "outputs": [
    {
     "data": {
      "text/plain": [
       "array([[0., 0., 0., ..., 0., 0., 0.],\n",
       "       [0., 0., 0., ..., 0., 0., 0.],\n",
       "       [1., 0., 0., ..., 0., 0., 0.],\n",
       "       ...,\n",
       "       [0., 0., 0., ..., 0., 0., 0.],\n",
       "       [0., 0., 0., ..., 0., 0., 0.],\n",
       "       [0., 0., 0., ..., 0., 0., 0.]], dtype=float32)"
      ]
     },
     "execution_count": 16,
     "metadata": {},
     "output_type": "execute_result"
    }
   ],
   "source": [
    "y_train_one_hot"
   ]
  },
  {
   "cell_type": "code",
   "execution_count": null,
   "metadata": {},
   "outputs": [],
   "source": []
  }
 ],
 "metadata": {
  "anaconda-cloud": {},
  "kernelspec": {
   "display_name": "Python 3",
   "language": "python",
   "name": "python3"
  },
  "language_info": {
   "codemirror_mode": {
    "name": "ipython",
    "version": 3
   },
   "file_extension": ".py",
   "mimetype": "text/x-python",
   "name": "python",
   "nbconvert_exporter": "python",
   "pygments_lexer": "ipython3",
   "version": "3.7.4"
  }
 },
 "nbformat": 4,
 "nbformat_minor": 4
}
